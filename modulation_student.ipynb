{
 "cells": [
  {
   "cell_type": "markdown",
   "metadata": {},
   "source": [
    "# Da Vinci Satellite: Bonaire Day Post Briefing Lecture"
   ]
  },
  {
   "cell_type": "markdown",
   "metadata": {},
   "source": [
    "De inhoud die werd gecreëerd is de briefinglezing voorafgaand aan de excursie naar het grondstation. De inhoud toont informatieverwerking, filtering, modulatie en behandelt de inhoud van ruis."
   ]
  },
  {
   "cell_type": "markdown",
   "metadata": {},
   "source": [
    "# Modulatie en ruiseffecten"
   ]
  },
  {
   "cell_type": "markdown",
   "metadata": {},
   "source": [
    "We weten dat modulatie ons in staat stelt om informatie te coderen in een signaal met een hogere frequentie, waardoor we de informatie met minder vermogen kunnen verzenden!"
   ]
  },
  {
   "cell_type": "markdown",
   "metadata": {},
   "source": [
    "Laten we dus een willekeurig signaal genereren dat gebruikt zou kunnen worden. Voor dit signaal nemen we aan dat de satelliet zijn batterijniveau terugstuurt."
   ]
  },
  {
   "cell_type": "code",
   "execution_count": 7,
   "metadata": {},
   "outputs": [],
   "source": [
    "import matplotlib.pyplot as plt\n",
    "import numpy as np\n",
    "from scipy.signal import savgol_filter\n",
    "from ipywidgets import interact, FloatSlider\n",
    "from IPython.display import display, clear_output"
   ]
  },
  {
   "cell_type": "code",
   "execution_count": 8,
   "metadata": {},
   "outputs": [],
   "source": [
    "time = np.linspace(0, 1, 1000)"
   ]
  },
  {
   "cell_type": "markdown",
   "metadata": {},
   "source": [
    "*Opdracht 1:* Hoe ziet het signaal eruit? Is het een lineair signaal, een kwadratisch signaal of een andere vorm?a"
   ]
  },
  {
   "cell_type": "code",
   "execution_count": 9,
   "metadata": {
    "slideshow": {
     "slide_type": "slide"
    }
   },
   "outputs": [
    {
     "data": {
      "application/vnd.jupyter.widget-view+json": {
       "model_id": "f809e57d114a453b8e32ae089f141509",
       "version_major": 2,
       "version_minor": 0
      },
      "text/plain": [
       "interactive(children=(FloatSlider(value=0.97, description='Verval', max=10.0, min=0.01, step=0.01), FloatSlide…"
      ]
     },
     "metadata": {},
     "output_type": "display_data"
    },
    {
     "data": {
      "text/plain": [
       "<function __main__.update_batery(tau=0.97, w=1.0)>"
      ]
     },
     "execution_count": 9,
     "metadata": {},
     "output_type": "execute_result"
    }
   ],
   "source": [
    "%matplotlib inline\n",
    "# Battery model function\n",
    "def battery_model(tau, w):\n",
    "    return 100 * np.exp(-tau * time) + w * np.abs(np.sin(2 * np.pi * 5 * time))\n",
    "\n",
    "# Initial values\n",
    "tau_init, w_init = 0.97, 1.0\n",
    "battery_level = battery_model(tau_init, w_init)\n",
    "yhat = savgol_filter(battery_level, 100, 5)\n",
    "\n",
    "# Update function for interactive sliders\n",
    "def update_batery(tau=0.97, w=1.0):\n",
    "    new_battery_level = battery_model(tau, w)\n",
    "    yhat = savgol_filter(new_battery_level, 100, 5)\n",
    "    fig, ax = plt.subplots()\n",
    "    plt.plot(time, yhat, label=\"Batterijniveau\")\n",
    "    plt.title(\"Batterijnivelau over de tijd\")\n",
    "    plt.xlabel(\"Tijd (Uur)\")\n",
    "    plt.ylabel(\"Batteryniveau (%)\")\n",
    "    plt.legend()\n",
    "    plt.grid()\n",
    "    plt.close()\n",
    "    display(fig)\n",
    "    fig.canvas.draw_idle()\n",
    "\n",
    "# Create interactive sliders\n",
    "\n",
    "tau_slider = FloatSlider(min=0.01, max=10.0, step=0.01, value=tau_init, description=\"Verval\")\n",
    "w_slider = FloatSlider(min=0.0, max=10.0, step=0.01, value=w_init, description=\"Oscillatie\")\n",
    "\n",
    "interact(update_batery, tau=tau_slider, w=w_slider)"
   ]
  },
  {
   "cell_type": "markdown",
   "metadata": {},
   "source": [
    "Nu gaan we een golf met een zeer hoge frequentie genereren om onze informatie in te coderen. Dit wordt onze draaggolf en we maken er een cosinusfunctie van met een frequentie die hoog genoeg is."
   ]
  },
  {
   "cell_type": "code",
   "execution_count": 10,
   "metadata": {},
   "outputs": [],
   "source": [
    "def carrier_wave(a_c, f):\n",
    "    return a_c * np.cos([2*np.pi*f*t for t in time]), a_c"
   ]
  },
  {
   "cell_type": "markdown",
   "metadata": {},
   "source": [
    "*Opdracht 2:* Probeer de frequentie van de golf te verhogen. Hoe verandert de golf?"
   ]
  },
  {
   "cell_type": "code",
   "execution_count": null,
   "metadata": {},
   "outputs": [
    {
     "data": {
      "application/vnd.jupyter.widget-view+json": {
       "model_id": "1fa3da28f1314f8294156b742ef0fdcc",
       "version_major": 2,
       "version_minor": 0
      },
      "text/plain": [
       "interactive(children=(FloatSlider(value=1.0, description='ac', max=3.0, min=-1.0), FloatSlider(value=1.0, desc…"
      ]
     },
     "metadata": {},
     "output_type": "display_data"
    },
    {
     "data": {
      "text/plain": [
       "<function __main__.update_carrier(ac=1.0, f=1.0)>"
      ]
     },
     "execution_count": 11,
     "metadata": {},
     "output_type": "execute_result"
    }
   ],
   "source": [
    "# Initial values\n",
    "a_c_init, f_init = 1., 1.\n",
    "# Update function for interactive sliders\n",
    "def update_carrier(ac = a_c_init, f = f_init):\n",
    "    new_carrier_wave, _ = carrier_wave(a_c=ac, f=f)\n",
    "    fig, ax = plt.subplots()\n",
    "    plt.plot(time, new_carrier_wave)\n",
    "    plt.title(\"Carrier Wave over Tijd\")\n",
    "    plt.xlabel(\"Tijd (Uur)\")\n",
    "    plt.ylabel(\"Amplitude\")\n",
    "    plt.grid()\n",
    "    plt.close()\n",
    "    display(fig)\n",
    "    fig.canvas.draw_idle()\n",
    "\n",
    "# Create interactive sliders\n",
    "a_c_slider = FloatSlider(min=-10, max=10.0, step=0.01, value=a_c_init, description=\"Amplitude\")\n",
    "f_slider = FloatSlider(min=0, max=20, step=0.01, value=f_init, description=\"Frequentie\")\n",
    "\n",
    "interact(update_carrier, a_c=a_c_slider, f=f_slider)"
   ]
  },
  {
   "cell_type": "markdown",
   "metadata": {},
   "source": [
    "Als we ze samen moduleren, kunnen we nu dezelfde informatie verzenden, maar met meer frequentie en dus minder vermogen! Modulatie in termen van amplitude kan worden gedaan met de volgende formule:\n",
    "\n",
    "$$ x_{mod} = (A_{carrier} + x_{information}) \\cdot \\cos{(\\omega_{c}t)} $$"
   ]
  },
  {
   "cell_type": "code",
   "execution_count": 12,
   "metadata": {},
   "outputs": [],
   "source": [
    "def x_mod(tau, w, a_c, f):\n",
    "    battery = battery_model(tau, w)\n",
    "    carrier, amplitude = carrier_wave(a_c, f)\n",
    "    return (amplitude + battery) * np.cos([2*np.pi*f*t for t in time])"
   ]
  },
  {
   "cell_type": "code",
   "execution_count": 13,
   "metadata": {},
   "outputs": [
    {
     "data": {
      "application/vnd.jupyter.widget-view+json": {
       "model_id": "cc928c506cca48ea8dad43a61222ce22",
       "version_major": 2,
       "version_minor": 0
      },
      "text/plain": [
       "interactive(children=(FloatSlider(value=0.97, description='Verval', max=10.0, min=0.01, step=0.01), FloatSlide…"
      ]
     },
     "metadata": {},
     "output_type": "display_data"
    },
    {
     "data": {
      "text/plain": [
       "<function __main__.update_x_mod(tau=0.97, w=1.0, ac=1.0, f=1.0)>"
      ]
     },
     "execution_count": 13,
     "metadata": {},
     "output_type": "execute_result"
    }
   ],
   "source": [
    "# Initial values\n",
    "# Update function for interactive sliders\n",
    "def update_x_mod(tau=tau_init, w=w_init, ac = a_c_init, f = f_init):\n",
    "    new_x_mod = x_mod(tau, w, ac, f)\n",
    "    fig, ax = plt.subplots()\n",
    "    plt.plot(time, new_x_mod)\n",
    "    plt.title(\"Ampltiude Modulatie over Tijd\")\n",
    "    plt.xlabel(\"Tijd (Uur)\")\n",
    "    plt.ylabel(\"Amplitude\")\n",
    "    plt.grid()\n",
    "    plt.close()\n",
    "    display(fig)\n",
    "    fig.canvas.draw_idle()\n",
    "\n",
    "interact(update_x_mod, tau=tau_slider, w=w_slider, a_c=a_c_slider, f=f_slider)"
   ]
  },
  {
   "cell_type": "markdown",
   "metadata": {},
   "source": [
    "We kunnen er ook voor kiezen om de informatie te frequentiemoduleren. Hierbij wordt de frequentie van de draaggolf aangepast om de informatie te dragen.\n",
    "\n",
    "$$ x_{mod} = A_{carrier}\\cos(\\omega_c t + x_{information})$$"
   ]
  },
  {
   "cell_type": "code",
   "execution_count": 14,
   "metadata": {},
   "outputs": [],
   "source": [
    "time_new = np.linspace(0, 10, 1000)"
   ]
  },
  {
   "cell_type": "code",
   "execution_count": 15,
   "metadata": {},
   "outputs": [],
   "source": [
    "def new_battery_model(tau, w, t):\n",
    "    return 100 * np.exp(-tau * t) + w * np.abs(np.sin(2 * np.pi * 5 * t))"
   ]
  },
  {
   "cell_type": "code",
   "execution_count": 16,
   "metadata": {},
   "outputs": [],
   "source": [
    "def x_mod_f(tau, w, a_c, f):\n",
    "    battery = battery_model(tau, w)\n",
    "    carrier, amplitude = carrier_wave(a_c, f)\n",
    "    cumulative_sum_battery = np.cumsum(new_battery_model(tau, w, time_new))\n",
    "    return (amplitude) * np.cos([2*np.pi*(f)*t for t in time] + 2*np.pi*cumulative_sum_battery)"
   ]
  },
  {
   "cell_type": "code",
   "execution_count": 17,
   "metadata": {},
   "outputs": [
    {
     "data": {
      "application/vnd.jupyter.widget-view+json": {
       "model_id": "71eba990d2ce4a76927e1172c61b7a97",
       "version_major": 2,
       "version_minor": 0
      },
      "text/plain": [
       "interactive(children=(FloatSlider(value=0.97, description='Verval', max=10.0, min=0.01, step=0.01), FloatSlide…"
      ]
     },
     "metadata": {},
     "output_type": "display_data"
    },
    {
     "data": {
      "text/plain": [
       "<function __main__.update_x_mod_f(tau=0.97, w=1.0, ac=1.0, f=1.0)>"
      ]
     },
     "execution_count": 17,
     "metadata": {},
     "output_type": "execute_result"
    }
   ],
   "source": [
    "# Initial values\n",
    "# Update function for interactive sliders\n",
    "def update_x_mod_f(tau=tau_init, w=w_init, ac = a_c_init, f = f_init):\n",
    "    new_x_mod = x_mod_f(tau, w, ac, f)\n",
    "    fig, ax = plt.subplots()\n",
    "    plt.plot(time_new, new_x_mod)\n",
    "    plt.title(\"Ampltiude Modulatie over Tijd\")\n",
    "    plt.xlabel(\"Tijd (Uur)\")\n",
    "    plt.ylabel(\"Amplitude\")\n",
    "    plt.grid()\n",
    "    plt.close()\n",
    "    display(fig)\n",
    "    fig.canvas.draw_idle()\n",
    "\n",
    "interact(update_x_mod_f, tau=tau_slider, w=w_slider, a_c=a_c_slider, f=f_slider)"
   ]
  },
  {
   "cell_type": "markdown",
   "metadata": {},
   "source": [
    "## Noise"
   ]
  },
  {
   "cell_type": "markdown",
   "metadata": {},
   "source": [
    "Vervolgens gaan we een soort ruis genereren die wordt veroorzaakt in de signaaloverdracht. Deze ruis is representatief voor de gecombineerde effecten van:"
   ]
  },
  {
   "cell_type": "markdown",
   "metadata": {},
   "source": [
    "*Opdract 3:* wat kunnen de geluidsbronnen zijn?\n"
   ]
  },
  {
   "cell_type": "code",
   "execution_count": 18,
   "metadata": {},
   "outputs": [],
   "source": [
    "def noise(noise_strength):\n",
    "    return noise_strength * np.random.normal(0, 1, len(time))"
   ]
  },
  {
   "cell_type": "code",
   "execution_count": 19,
   "metadata": {},
   "outputs": [
    {
     "data": {
      "application/vnd.jupyter.widget-view+json": {
       "model_id": "ecc687e1aac5428493f04f3d540032cb",
       "version_major": 2,
       "version_minor": 0
      },
      "text/plain": [
       "interactive(children=(FloatSlider(value=0.0, description='ns', max=1.0), Output()), _dom_classes=('widget-inte…"
      ]
     },
     "metadata": {},
     "output_type": "display_data"
    },
    {
     "data": {
      "text/plain": [
       "<function __main__.update_noise(ns=0.0)>"
      ]
     },
     "execution_count": 19,
     "metadata": {},
     "output_type": "execute_result"
    }
   ],
   "source": [
    "# Initial values\n",
    "# Update function for interactive sliders\n",
    "noise_strength_init = 0.0\n",
    "def update_noise(ns=noise_strength_init):\n",
    "    new_x_mod = noise(noise_strength=ns)\n",
    "    fig, ax = plt.subplots()\n",
    "    plt.plot(time_new, new_x_mod)\n",
    "    plt.title(\"Ampltiude Modulatie over Tijd\")\n",
    "    plt.xlabel(\"Tijd (Uur)\")\n",
    "    plt.ylabel(\"Amplitude\")\n",
    "    plt.grid()\n",
    "    plt.close()\n",
    "    display(fig)\n",
    "    fig.canvas.draw_idle()\n",
    "\n",
    "noise_strength_slider = FloatSlider(min=0, max=10, step=0.01, value=noise_strength_init, description=\"Ruisssterkte\")\n",
    "\n",
    "interact(update_noise, noise_strength=noise_strength_slider)"
   ]
  },
  {
   "cell_type": "markdown",
   "metadata": {},
   "source": [
    "Laten we eens kijken hoe het geluid eruit ziet!\n",
    "\n",
    "*Opdracht 4:* En als we het signaalvermogen variëren, wat voor invloed heeft dat dan op het signaal? Voer het onderstaande codeblok uit om."
   ]
  },
  {
   "cell_type": "code",
   "execution_count": 20,
   "metadata": {},
   "outputs": [
    {
     "data": {
      "application/vnd.jupyter.widget-view+json": {
       "model_id": "a3b4b1d88cd24c7481d21e0a5377d905",
       "version_major": 2,
       "version_minor": 0
      },
      "text/plain": [
       "interactive(children=(FloatSlider(value=0.97, description='Verval', max=10.0, min=0.01, step=0.01), FloatSlide…"
      ]
     },
     "metadata": {},
     "output_type": "display_data"
    },
    {
     "data": {
      "text/plain": [
       "<function __main__.update_batery_noise(tau=0.97, w=1.0, ns=0.0)>"
      ]
     },
     "execution_count": 20,
     "metadata": {},
     "output_type": "execute_result"
    }
   ],
   "source": [
    "# Update function for interactive sliders\n",
    "def update_batery_noise(tau=0.97, w=1.0, ns=noise_strength_init):\n",
    "    new_battery_level = battery_model(tau, w) + noise(ns)\n",
    "    yhat = savgol_filter(new_battery_level, 100, 5)\n",
    "    fig, ax = plt.subplots()\n",
    "    plt.plot(time, yhat, label=\"Batterijniveau met ruis\")\n",
    "    plt.title(\"Batterijnivelau over de tijd\")\n",
    "    plt.xlabel(\"Tijd (Uur)\")\n",
    "    plt.ylabel(\"Batteryniveau met ruis (%)\")\n",
    "    plt.legend()\n",
    "    plt.grid()\n",
    "    plt.close()\n",
    "    display(fig)\n",
    "    fig.canvas.draw_idle()\n",
    "\n",
    "# Create interactive sliders\n",
    "interact(update_batery_noise, tau=tau_slider, w=w_slider, ns=noise_strength_slider)"
   ]
  },
  {
   "cell_type": "markdown",
   "metadata": {},
   "source": [
    "*Opdracht 5:* En wat als we deze signalen moduleren? Voer het onderstaande codeblok uit om."
   ]
  },
  {
   "cell_type": "code",
   "execution_count": 23,
   "metadata": {},
   "outputs": [],
   "source": [
    "# Update function for interactive sliders\n",
    "def update_batery_noise_modulated(tau=0.97, w=1.0, a_c=a_c_init, f=f_init, ns=noise_strength_init):\n",
    "    fig, ax = plt.subplots(3, 1, figsize=(15, 5))\n",
    "    battery = battery_model(tau, w)\n",
    "    carrier, amplitude = carrier_wave(a_c, f)\n",
    "    new_battery_level = battery_model(tau, w) + noise(ns)\n",
    "    x_mod_signal = (amplitude + new_battery_level) * np.cos([2*np.pi*f*t for t in time])\n",
    "    x_mod_signal_freq = (amplitude) * np.cos([2*np.pi*(f)*t for t in time] + 2*np.pi* np.cumsum(new_battery_model(tau, w, time)))\n",
    "    ax[0].plot(time, new_battery_level, label=\"Batterijniveau met ruis\")\n",
    "    ax[0].set_title(\"Batterijnivelau over de tijd\")\n",
    "    ax[0].set_xlabel(\"Tijd (Uur)\")\n",
    "    ax[0].set_ylabel(\"Batteryniveau met ruis (%)\")\n",
    "    # ax[0].legend()\n",
    "    ax[0].grid()\n",
    "    fig.canvas.draw_idle()\n",
    "    ax[1].plot(time, x_mod_signal, label=\"Amplitude Modulatie\")\n",
    "    ax[1].set_title(\"Amplitude Modulatie over de tijd\")\n",
    "    ax[1].set_xlabel(\"Tijd (Uur)\")\n",
    "    ax[1].set_ylabel(\"Amplitude\")\n",
    "    # ax[1].legend()\n",
    "    ax[1].grid()\n",
    "    fig.canvas.draw_idle()\n",
    "    ax[2].plot(time, x_mod_signal_freq, label=\"Frequentie Modulatie met frequentie\")\n",
    "    ax[2].set_title(\"Frequentie Modulatie over de tijd\")\n",
    "    ax[2].set_xlabel(\"Tijd (Uur)\")\n",
    "    ax[2].set_ylabel(\"Amplitude\")\n",
    "    # ax[2].legend()\n",
    "    plt.close()\n",
    "    fig.subplots_adjust(hspace=1.1)  # Increases vertical spacing between subplots\n",
    "    display(fig)\n",
    "    fig.canvas.draw_idle()"
   ]
  },
  {
   "cell_type": "code",
   "execution_count": 24,
   "metadata": {},
   "outputs": [
    {
     "data": {
      "application/vnd.jupyter.widget-view+json": {
       "model_id": "87f460beabce4d26b12126d4a23de911",
       "version_major": 2,
       "version_minor": 0
      },
      "text/plain": [
       "interactive(children=(FloatSlider(value=10.0, description='Verval', max=10.0, min=0.01, step=0.01), FloatSlide…"
      ]
     },
     "metadata": {},
     "output_type": "display_data"
    },
    {
     "data": {
      "text/plain": [
       "<function __main__.update_batery_noise_modulated(tau=0.97, w=1.0, a_c=1.0, f=1.0, ns=0.0)>"
      ]
     },
     "execution_count": 24,
     "metadata": {},
     "output_type": "execute_result"
    }
   ],
   "source": [
    "interact(update_batery_noise_modulated, tau=tau_slider, w=w_slider, a_c=a_c_slider, f=f_slider, ns=noise_strength_slider)"
   ]
  },
  {
   "cell_type": "markdown",
   "metadata": {},
   "source": [
    "*Opdracht 6:* Van welke kunnen we de informatie nog gebruiken? Welk type modulatie is robuuster tegen deze ruis?"
   ]
  },
  {
   "cell_type": "markdown",
   "metadata": {},
   "source": []
  }
 ],
 "metadata": {
  "kernelspec": {
   "display_name": "Python 3",
   "language": "python",
   "name": "python3"
  },
  "language_info": {
   "codemirror_mode": {
    "name": "ipython",
    "version": 3
   },
   "file_extension": ".py",
   "mimetype": "text/x-python",
   "name": "python",
   "nbconvert_exporter": "python",
   "pygments_lexer": "ipython3",
   "version": "3.12.6"
  }
 },
 "nbformat": 4,
 "nbformat_minor": 2
}
